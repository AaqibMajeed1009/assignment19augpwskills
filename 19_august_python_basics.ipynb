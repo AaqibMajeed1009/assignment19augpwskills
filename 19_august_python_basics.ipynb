{
 "cells": [
  {
   "cell_type": "markdown",
   "id": "745c1f6e",
   "metadata": {},
   "source": [
    "SECTION A QUESTIONS\n"
   ]
  },
  {
   "cell_type": "code",
   "execution_count": 11,
   "id": "19216e45",
   "metadata": {},
   "outputs": [
    {
     "name": "stdout",
     "output_type": "stream",
     "text": [
      "Before Swapping: a= 50  and b= 40\n",
      "Before Swapping: a= 40  and b= 50\n"
     ]
    }
   ],
   "source": [
    "\"Basic variable based question 1\"\n",
    "a = 50\n",
    "b = 40\n",
    "print(\"Before Swapping: a=\",a,\" and b=\",b)\n",
    "\"Swap a and b\"\n",
    "a,b = b,a\n",
    "print(\"Before Swapping: a=\",a,\" and b=\",b)"
   ]
  },
  {
   "cell_type": "code",
   "execution_count": 12,
   "id": "cf8bcc60-c7b5-4767-a3cf-5d3583dc6245",
   "metadata": {},
   "outputs": [
    {
     "name": "stdout",
     "output_type": "stream",
     "text": [
      "Length of Rectangle: 12\n",
      "width of Rectangle: 2\n",
      "The area of Rectangle is: 24.0\n"
     ]
    }
   ],
   "source": [
    "\"Basic variable based question 2\"\n",
    "#take inputs from the user\n",
    "length = float(input(\"Length of Rectangle: \")) \n",
    "width = float(input(\"width of Rectangle: \"))\n",
    "area = length * width\n",
    "print(\"The area of Rectangle is:\",area)"
   ]
  },
  {
   "cell_type": "code",
   "execution_count": 13,
   "id": "347ed4b9-30ce-4ef2-9619-4e09ec0e47f5",
   "metadata": {},
   "outputs": [
    {
     "name": "stdout",
     "output_type": "stream",
     "text": [
      "Temperature in Celsius: 104\n",
      "The provided celsius temperature in fahrenheit is: 219.20000000000002\n"
     ]
    }
   ],
   "source": [
    "\"Basic variable based question 3\"\n",
    "#take input from the user\n",
    "celsius = int(input(\"Temperature in Celsius: \"))\n",
    "fahrenheit = celsius * (9/5) + 32\n",
    "print(\"The provided celsius temperature in fahrenheit is:\",fahrenheit)"
   ]
  },
  {
   "cell_type": "markdown",
   "id": "4e3a1faf",
   "metadata": {},
   "source": [
    "SECTION B QUESTIONS"
   ]
  },
  {
   "cell_type": "code",
   "execution_count": 14,
   "id": "8ca285b2-51e2-4a30-8f0f-037b1df6c0f5",
   "metadata": {},
   "outputs": [
    {
     "name": "stdout",
     "output_type": "stream",
     "text": [
      "Enter the string: my name is aaqib majeed bhat\n",
      "The length of the provided string is 28\n"
     ]
    }
   ],
   "source": [
    "\"String based question 1\"\n",
    "#take inputs from the user\n",
    "string1 = input(\"Enter the string: \")\n",
    "print(\"The length of the provided string is\",len(string1))"
   ]
  },
  {
   "cell_type": "code",
   "execution_count": 33,
   "id": "60e84e1b-2f96-42c1-b1fb-baf63c22242c",
   "metadata": {},
   "outputs": [
    {
     "name": "stdout",
     "output_type": "stream",
     "text": [
      "Enter a string: aaaqib majeed bhat alpha beta gamma\n",
      "The number of vowels in the string:- {'a': 10, 'e': 3, 'i': 1, 'o': 0, 'u': 0}\n"
     ]
    }
   ],
   "source": [
    "\"String based question 2\"\n",
    "\n",
    "# take input from the user\n",
    "input_string = input(\"Enter a string: \")\n",
    "\n",
    "# make it suitable for caseless comparisions\n",
    "input_string = input_string.casefold()\n",
    "#print(input_string)\n",
    "\n",
    "# count the vowels\n",
    "count = {x:sum([1 for char in input_string if char == x]) for x in 'aeiou'}\n",
    "\n",
    "print(\"The number of vowels in the string:-\",count)\n",
    "\n",
    "\n",
    "\n",
    "\n",
    "\n"
   ]
  },
  {
   "cell_type": "code",
   "execution_count": 6,
   "id": "c1977d6f-9467-48eb-b52f-2c4a9d3085ac",
   "metadata": {},
   "outputs": [
    {
     "name": "stdout",
     "output_type": "stream",
     "text": [
      "Enter the string that you want to reverse:-aaqib bhat\n",
      "Reverse of the input string:- tahb biqaa\n"
     ]
    }
   ],
   "source": [
    "\"String Based Question 3\"\n",
    "#print the reversal string\n",
    "#take input from user\n",
    "s = input(\"Enter the string that you want to reverse:-\")\n",
    "#s1=\"my name is aaqib majeed bhat from chadoora kashmir\"\n",
    "s2=s[::-1] # we are saving the reversal of string in s3 variable\n",
    "print(\"Reverse of the input string:-\",s2) #print the reversal of alphabets"
   ]
  },
  {
   "cell_type": "code",
   "execution_count": 5,
   "id": "68b345c3",
   "metadata": {},
   "outputs": [
    {
     "name": "stdout",
     "output_type": "stream",
     "text": [
      "Enter the string: madam\n",
      "The input is a palindrome.\n"
     ]
    }
   ],
   "source": [
    "\"String Based Question 4\"\n",
    "#Input is palindrome\n",
    "def is_palindrome(s): # function to check palindrome\n",
    "    s = s.lower().replace(\" \", \"\")  # Convert to lowercase and remove spaces\n",
    "    return s == s[::-1]\n",
    "\n",
    "def check_palindrome(s): \n",
    "    if is_palindrome(s): #condition to check the palindrome\n",
    "        return \"The input is a palindrome.\"\n",
    "    else:\n",
    "        return \"The input is not a palindrome.\"\n",
    "#take input from user\n",
    "s = input(\"Enter the string: \")\n",
    "result = check_palindrome(s)\n",
    "print(result)"
   ]
  },
  {
   "cell_type": "code",
   "execution_count": 4,
   "id": "7701385a",
   "metadata": {},
   "outputs": [
    {
     "name": "stdout",
     "output_type": "stream",
     "text": [
      "Enter the string: aaqib bhat\n",
      "The input is not a palindrome.\n"
     ]
    }
   ],
   "source": [
    "\"String Based Question 4\"\n",
    "#Input is not palindrome\n",
    "def is_palindrome(s): # function to check palindrome\n",
    "    s = s.lower().replace(\" \", \"\")  # Convert to lowercase and remove spaces\n",
    "    return s == s[::-1]\n",
    "\n",
    "def check_palindrome(s): \n",
    "    if is_palindrome(s): #condition to check the palindrome\n",
    "        return \"The input is a palindrome.\"\n",
    "    else:\n",
    "        return \"The input is not a palindrome.\"\n",
    "#take input from user\n",
    "s = input(\"Enter the string: \")\n",
    "result = check_palindrome(s)\n",
    "print(result)"
   ]
  },
  {
   "cell_type": "code",
   "execution_count": 28,
   "id": "6e674872",
   "metadata": {},
   "outputs": [
    {
     "name": "stdout",
     "output_type": "stream",
     "text": [
      "Enter a string: AAQIB MAJEED BHAT\n",
      "Modified string without spaces: AAQIBMAJEEDBHAT\n"
     ]
    }
   ],
   "source": [
    "\"String Based Question 5\"\n",
    "#Print the modified string without spaces.\n",
    "s = input(\"Enter a string: \")\n",
    "s1 = s.replace(\" \", \"\") #replaces the spaces with no spaces\n",
    "print(\"Modified string without spaces:\", s1)"
   ]
  },
  {
   "cell_type": "code",
   "execution_count": null,
   "id": "3b113608",
   "metadata": {},
   "outputs": [],
   "source": []
  }
 ],
 "metadata": {
  "kernelspec": {
   "display_name": "Python 3 (ipykernel)",
   "language": "python",
   "name": "python3"
  },
  "language_info": {
   "codemirror_mode": {
    "name": "ipython",
    "version": 3
   },
   "file_extension": ".py",
   "mimetype": "text/x-python",
   "name": "python",
   "nbconvert_exporter": "python",
   "pygments_lexer": "ipython3",
   "version": "3.10.9"
  }
 },
 "nbformat": 4,
 "nbformat_minor": 5
}
